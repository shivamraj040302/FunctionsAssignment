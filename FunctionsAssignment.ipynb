{
  "nbformat": 4,
  "nbformat_minor": 0,
  "metadata": {
    "colab": {
      "provenance": []
    },
    "kernelspec": {
      "name": "python3",
      "display_name": "Python 3"
    },
    "language_info": {
      "name": "python"
    }
  },
  "cells": [
    {
      "cell_type": "markdown",
      "source": [
        "**Theory Questions:**"
      ],
      "metadata": {
        "id": "a2NzNiqkJxbt"
      }
    },
    {
      "cell_type": "markdown",
      "source": [
        "1.What is the difference between a function and a method in Python?\n",
        "- In Python, functions and methods are similar in that they both perform a specific task and can take arguments and return values. However, they differ primarily in how they are associated with objects:\n",
        "\n",
        "- **Function**\n",
        "  - A function is a block of code that is not associated with an object.\n",
        "  - Defined using the def keyword or lambda.\n",
        "  - Can be called independently.\n",
        "\n",
        "Example:\n"
      ],
      "metadata": {
        "id": "p4dMJsz0J4bE"
      }
    },
    {
      "cell_type": "code",
      "source": [
        "def greet(name):\n",
        "    return f\"Hello, {name}!\"\n",
        "\n",
        "print(greet(\"Alice\"))\n"
      ],
      "metadata": {
        "colab": {
          "base_uri": "https://localhost:8080/"
        },
        "id": "Sh4JXJLbKd2y",
        "outputId": "42ba8654-956d-4ce1-ae1d-52c01adc4947"
      },
      "execution_count": 1,
      "outputs": [
        {
          "output_type": "stream",
          "name": "stdout",
          "text": [
            "Hello, Alice!\n"
          ]
        }
      ]
    },
    {
      "cell_type": "markdown",
      "source": [
        "**- Method**\n",
        "  - A method is a function that is associated with an object (specifically, an instance of a class).\n",
        "  - It is called on an object and can access that object's attributes.\n",
        "  - The first parameter of a method is usually self, which refers to the instance it is called on.\n",
        "\n",
        "Example:**bold text**"
      ],
      "metadata": {
        "id": "Cx69n1MhKpYv"
      }
    },
    {
      "cell_type": "code",
      "source": [
        "class Greeter:\n",
        "    def greet(self, name):\n",
        "        return f\"Hello, {name}!\"\n",
        "\n",
        "g = Greeter()\n",
        "print(g.greet(\"Alice\"))\n"
      ],
      "metadata": {
        "colab": {
          "base_uri": "https://localhost:8080/"
        },
        "id": "9X1QDnJgK78b",
        "outputId": "5efaee88-a3bf-4028-c754-ce942f7b2fce"
      },
      "execution_count": 2,
      "outputs": [
        {
          "output_type": "stream",
          "name": "stdout",
          "text": [
            "Hello, Alice!\n"
          ]
        }
      ]
    },
    {
      "cell_type": "markdown",
      "source": [
        "2.Explain the concept of function arguments and parameters in Python.\n",
        "- Concept of Function Arguments and Parameters in Python\n",
        "In Python, parameters and arguments are related to how functions receive and use input values.\n",
        "\n",
        " 1.Parameters\n",
        "  - Definition: Parameters are variables listed in a function definition.\n",
        "  - They act as placeholders for the values the function will receive when called.\n",
        "\n"
      ],
      "metadata": {
        "id": "Qph0Ad_fLP1A"
      }
    },
    {
      "cell_type": "code",
      "source": [
        "def greet(name):  # 'name' is a parameter\n",
        "    print(f\"Hello, {name}!\")"
      ],
      "metadata": {
        "id": "nzIq1Bh4LRmq"
      },
      "execution_count": 5,
      "outputs": []
    },
    {
      "cell_type": "markdown",
      "source": [
        "2.Arguments\n",
        "- Definition: Arguments are the actual values passed to a function when it is called.\n",
        "- These values get assigned to the corresponding parameters."
      ],
      "metadata": {
        "id": "I1N1lnSRL8A4"
      }
    },
    {
      "cell_type": "code",
      "source": [
        "greet(\"Alice\")  # \"Alice\" is an argument\n"
      ],
      "metadata": {
        "colab": {
          "base_uri": "https://localhost:8080/"
        },
        "id": "-YCm06alMAYD",
        "outputId": "e1c69c1d-f486-46b5-d8e5-d8e900b88acc"
      },
      "execution_count": 4,
      "outputs": [
        {
          "output_type": "stream",
          "name": "stdout",
          "text": [
            "Hello, Alice!\n"
          ]
        }
      ]
    },
    {
      "cell_type": "markdown",
      "source": [
        "3.What are the different ways to define and call a function in Python?\n",
        "- In Python, you can define and call functions in several ways, depending on your use case. Here's a complete breakdown:\n",
        "-  1. Defining a Function\n",
        " - Using def Keyword (Standard Function)\n",
        ""
      ],
      "metadata": {
        "id": "NnBmjONhMLZg"
      }
    },
    {
      "cell_type": "code",
      "source": [
        "def greet(name):\n",
        "    print(f\"Hello, {name}!\")\n"
      ],
      "metadata": {
        "id": "cRL6-BdAMh1s"
      },
      "execution_count": 6,
      "outputs": []
    },
    {
      "cell_type": "markdown",
      "source": [
        "- Using lambda (Anonymous Function)\n",
        "  - Used for small, one-line functions."
      ],
      "metadata": {
        "id": "nzv6Yh9QMnu7"
      }
    },
    {
      "cell_type": "code",
      "source": [
        "add = lambda x, y: x + y\n"
      ],
      "metadata": {
        "id": "80mo7SXxMsZi"
      },
      "execution_count": 7,
      "outputs": []
    },
    {
      "cell_type": "markdown",
      "source": [
        "2.Calling a Function\n",
        "- Using Positional Arguments"
      ],
      "metadata": {
        "id": "Rq70A3soMy8D"
      }
    },
    {
      "cell_type": "code",
      "source": [
        "def add(x, y):\n",
        "    return x + y\n",
        "\n",
        "result = add(3, 5)  # 3 and 5 are positional arguments\n"
      ],
      "metadata": {
        "id": "w32_9ivIM4H7"
      },
      "execution_count": 8,
      "outputs": []
    },
    {
      "cell_type": "markdown",
      "source": [
        "Using Keyword Arguments:"
      ],
      "metadata": {
        "id": "wTXbajCRM6da"
      }
    },
    {
      "cell_type": "code",
      "source": [
        "result = add(x=3, y=5)\n"
      ],
      "metadata": {
        "id": "N5n_5ZSSM-nh"
      },
      "execution_count": 10,
      "outputs": []
    },
    {
      "cell_type": "markdown",
      "source": [
        "Using Default Arguments:"
      ],
      "metadata": {
        "id": "TJLkeybGNB24"
      }
    },
    {
      "cell_type": "code",
      "source": [
        "def greet(name=\"Guest\"):\n",
        "    print(f\"Hello, {name}!\")\n",
        "\n",
        "greet()         # Uses default\n",
        "greet(\"Alice\")  # Overrides default\n"
      ],
      "metadata": {
        "colab": {
          "base_uri": "https://localhost:8080/"
        },
        "id": "FxpeSG_bNG0Y",
        "outputId": "91c71e27-f45f-49e4-d9f4-d0aeedc5eaf3"
      },
      "execution_count": 11,
      "outputs": [
        {
          "output_type": "stream",
          "name": "stdout",
          "text": [
            "Hello, Guest!\n",
            "Hello, Alice!\n"
          ]
        }
      ]
    },
    {
      "cell_type": "markdown",
      "source": [
        "Using *args for Arbitrary Positional Arguments:"
      ],
      "metadata": {
        "id": "oDYEKBElNNyJ"
      }
    },
    {
      "cell_type": "code",
      "source": [
        "def total(*numbers):\n",
        "    return sum(numbers)\n",
        "\n",
        "print(total(1, 2, 3, 4))  # Accepts any number of arguments\n"
      ],
      "metadata": {
        "colab": {
          "base_uri": "https://localhost:8080/"
        },
        "id": "WSPxktSDNOjJ",
        "outputId": "bf9a9fe1-9d82-4d58-e973-ab7d35b2be73"
      },
      "execution_count": 12,
      "outputs": [
        {
          "output_type": "stream",
          "name": "stdout",
          "text": [
            "10\n"
          ]
        }
      ]
    },
    {
      "cell_type": "markdown",
      "source": [
        "Using **kwargs for Arbitrary Keyword Arguments:"
      ],
      "metadata": {
        "id": "gKMtYeKXNRnl"
      }
    },
    {
      "cell_type": "code",
      "source": [
        "def print_info(**info):\n",
        "    for key, value in info.items():\n",
        "        print(f\"{key}: {value}\")\n",
        "\n",
        "print_info(name=\"Alice\", age=30)\n"
      ],
      "metadata": {
        "colab": {
          "base_uri": "https://localhost:8080/"
        },
        "id": "ueXYsdYLNTwb",
        "outputId": "c7c2d454-7254-4f61-b557-31eb74722d10"
      },
      "execution_count": 13,
      "outputs": [
        {
          "output_type": "stream",
          "name": "stdout",
          "text": [
            "name: Alice\n",
            "age: 30\n"
          ]
        }
      ]
    },
    {
      "cell_type": "markdown",
      "source": [
        "3.Function as an Argument\n",
        "- You can pass a function to another function."
      ],
      "metadata": {
        "id": "mriXSTKJNYjz"
      }
    },
    {
      "cell_type": "code",
      "source": [
        "def shout(text):\n",
        "    return text.upper()\n",
        "\n",
        "def speak(func, msg):\n",
        "    print(func(msg))\n",
        "\n",
        "speak(shout, \"hello\")\n"
      ],
      "metadata": {
        "colab": {
          "base_uri": "https://localhost:8080/"
        },
        "id": "qNE37H_CNbMQ",
        "outputId": "9bd66c7e-fc7a-44fc-b6e3-af2036d5be5e"
      },
      "execution_count": 14,
      "outputs": [
        {
          "output_type": "stream",
          "name": "stdout",
          "text": [
            "HELLO\n"
          ]
        }
      ]
    },
    {
      "cell_type": "markdown",
      "source": [
        "4.Function with Return Value:"
      ],
      "metadata": {
        "id": "fu93lUosNgrp"
      }
    },
    {
      "cell_type": "code",
      "source": [
        "def square(x):\n",
        "    return x * x\n",
        "\n",
        "result = square(4)\n"
      ],
      "metadata": {
        "id": "BJZzi9bENiLx"
      },
      "execution_count": 15,
      "outputs": []
    },
    {
      "cell_type": "markdown",
      "source": [
        "5.Recursive Function:\n",
        "- A function that calls itself."
      ],
      "metadata": {
        "id": "KHdqWqUDNmwm"
      }
    },
    {
      "cell_type": "code",
      "source": [
        "def factorial(n):\n",
        "    if n == 0:\n",
        "        return 1\n",
        "    return n * factorial(n - 1)\n"
      ],
      "metadata": {
        "id": "QdhR4b70NqLX"
      },
      "execution_count": 16,
      "outputs": []
    },
    {
      "cell_type": "markdown",
      "source": [
        "6.Lambda Function Call:"
      ],
      "metadata": {
        "id": "fVhKzJfrNuHD"
      }
    },
    {
      "cell_type": "code",
      "source": [
        "print((lambda x, y: x * y)(3, 4))  # Outputs: 12\n"
      ],
      "metadata": {
        "colab": {
          "base_uri": "https://localhost:8080/"
        },
        "id": "Nx2qcPNzNxaf",
        "outputId": "b6a04686-4d07-4d62-d2f5-f598ecbf18bf"
      },
      "execution_count": 17,
      "outputs": [
        {
          "output_type": "stream",
          "name": "stdout",
          "text": [
            "12\n"
          ]
        }
      ]
    },
    {
      "cell_type": "markdown",
      "source": [
        "4.What is the purpose of the `return` statement in a Python function?\n",
        "- Purpose of the return Statement in a Python Function\n",
        "- The return statement in Python is used to exit a function and send back a result to the caller.\n",
        "\n",
        "**Key Purposes of return:**\n",
        "- 1.Returns a value from the function to the caller."
      ],
      "metadata": {
        "id": "rFm4-oAUN6se"
      }
    },
    {
      "cell_type": "code",
      "source": [
        "def add(a, b):\n",
        "    return a + b\n",
        "\n",
        "result = add(2, 3)  # result is now 5\n"
      ],
      "metadata": {
        "id": "9-y7u2ZwOOqp"
      },
      "execution_count": 18,
      "outputs": []
    },
    {
      "cell_type": "markdown",
      "source": [
        "- 2.Ends function execution\n",
        "  - Once return is executed, the function stops running—even if more code follows.\n",
        "\n"
      ],
      "metadata": {
        "id": "8z3P2RYuOSrC"
      }
    },
    {
      "cell_type": "code",
      "source": [
        "def test():\n",
        "    return \"Done\"\n",
        "    print(\"This will not be printed\")\n"
      ],
      "metadata": {
        "id": "vGdl8H6COe8g"
      },
      "execution_count": 19,
      "outputs": []
    },
    {
      "cell_type": "markdown",
      "source": [
        "-3.Can return multiple values (as a tuple)"
      ],
      "metadata": {
        "id": "biBwa43XOhK5"
      }
    },
    {
      "cell_type": "code",
      "source": [
        "def stats(a, b):\n",
        "    return a + b, a * b\n",
        "\n",
        "s, p = stats(3, 4)  # s = 7, p = 12\n"
      ],
      "metadata": {
        "id": "_qY5CYNMOnMc"
      },
      "execution_count": 20,
      "outputs": []
    },
    {
      "cell_type": "markdown",
      "source": [
        "-4.Can return any data type\n",
        "  - Strings, numbers, lists, dictionaries, objects, even other functions."
      ],
      "metadata": {
        "id": "wi-srxCVOqAF"
      }
    },
    {
      "cell_type": "markdown",
      "source": [
        "5.What are iterators in Python and how do they differ from iterables?\n",
        "- Iterators vs Iterables in Python\n",
        "  - In Python, iterables and iterators are fundamental concepts that allow you to loop over collections like lists, tuples, sets, and more.\n",
        "-1.Iterable\n",
        " - An iterable is any object that can be looped over (i.e., passed to a for loop).\n",
        " - It must implement the __iter__() method, which returns an iterator.\n",
        "\n",
        "Examples of iterables:"
      ],
      "metadata": {
        "id": "7PB0hXidO6Hw"
      }
    },
    {
      "cell_type": "code",
      "source": [
        "my_list = [1, 2, 3]\n",
        "my_string = \"hello\"\n",
        "my_tuple = (1, 2, 3)\n"
      ],
      "metadata": {
        "id": "eC7XZ0uSPU9J"
      },
      "execution_count": 21,
      "outputs": []
    },
    {
      "cell_type": "markdown",
      "source": [
        "You can check if something is iterable:\n"
      ],
      "metadata": {
        "id": "tkuDrGalPaJb"
      }
    },
    {
      "cell_type": "code",
      "source": [
        "from collections.abc import Iterable\n",
        "\n",
        "print(isinstance(my_list, Iterable))  # True\n"
      ],
      "metadata": {
        "colab": {
          "base_uri": "https://localhost:8080/"
        },
        "id": "Ic_0zc1lPbou",
        "outputId": "9b1a30af-dbb4-482a-c5e7-276a9c13548b"
      },
      "execution_count": 22,
      "outputs": [
        {
          "output_type": "stream",
          "name": "stdout",
          "text": [
            "True\n"
          ]
        }
      ]
    },
    {
      "cell_type": "markdown",
      "source": [
        "2.Iterator\n",
        "- An iterator is an object that remembers its position during iteration.\n",
        "- It implements two methods:\n",
        "  - __iter__() — returns the iterator itself\n",
        "  - __next__() — returns the next item or raises StopIteration when done\n",
        "\n",
        "You can get an iterator from an iterable using iter():"
      ],
      "metadata": {
        "id": "FjdkEi6fPhnr"
      }
    },
    {
      "cell_type": "code",
      "source": [
        "my_list = [1, 2, 3]\n",
        "my_iter = iter(my_list)\n",
        "\n",
        "print(next(my_iter))  # 1\n",
        "print(next(my_iter))  # 2\n"
      ],
      "metadata": {
        "colab": {
          "base_uri": "https://localhost:8080/"
        },
        "id": "EPM4QpS6Po61",
        "outputId": "d2347de8-ab6f-41c0-aac3-5ba5df3ea8c5"
      },
      "execution_count": 23,
      "outputs": [
        {
          "output_type": "stream",
          "name": "stdout",
          "text": [
            "1\n",
            "2\n"
          ]
        }
      ]
    },
    {
      "cell_type": "markdown",
      "source": [
        "6.Explain the concept of generators in Python and how they are defined.\n",
        "- Generators in Python: Concept and Definition\n",
        "A generator in Python is a special type of iterator that allows you to generate values on the fly rather than storing them all in memory.\n",
        "\n",
        "- What Is a Generator?\n",
        "A generator:\n",
        "  - Produces values lazily—one at a time and only when requested.\n",
        "  - Is created using:\n",
        "  - A function with the yield keyword.\n",
        "  - A generator expression (similar to list comprehensions).\n",
        "\n",
        "- Generators are ideal for:\n",
        "  - Working with large datasets.\n",
        "\n",
        "- Writing memory-efficient code.\n",
        "- 1.Generator Function\n",
        "  - Defined like a normal function, but uses yield instead of return.\n",
        "\n"
      ],
      "metadata": {
        "id": "s0UuOA62P0ie"
      }
    },
    {
      "cell_type": "code",
      "source": [
        "def count_up_to(n):\n",
        "    count = 1\n",
        "    while count <= n:\n",
        "        yield count\n",
        "        count += 1\n"
      ],
      "metadata": {
        "id": "r2boEFTcQcFQ"
      },
      "execution_count": 24,
      "outputs": []
    },
    {
      "cell_type": "markdown",
      "source": [
        "- How It Works:\n",
        "  - Calling count_up_to(3) returns a generator object, not values immediately.\n",
        "  - You can get values using next() or loop with for.\n"
      ],
      "metadata": {
        "id": "bK1zZlVwQhsF"
      }
    },
    {
      "cell_type": "code",
      "source": [
        "gen = count_up_to(3)\n",
        "print(next(gen))  # 1\n",
        "print(next(gen))  # 2\n",
        "print(next(gen))  # 3\n"
      ],
      "metadata": {
        "colab": {
          "base_uri": "https://localhost:8080/"
        },
        "id": "goJo3OInQoWf",
        "outputId": "384ee954-3b37-4374-b2e8-e42ccb8dccb5"
      },
      "execution_count": 25,
      "outputs": [
        {
          "output_type": "stream",
          "name": "stdout",
          "text": [
            "1\n",
            "2\n",
            "3\n"
          ]
        }
      ]
    },
    {
      "cell_type": "markdown",
      "source": [
        "- 2.Generator Expression\n",
        "  - A compact way to create a generator using a syntax similar to list comprehensions:"
      ],
      "metadata": {
        "id": "_ZZeS7itQsMq"
      }
    },
    {
      "cell_type": "code",
      "source": [
        "squares = (x * x for x in range(5))\n",
        "\n",
        "for num in squares:\n",
        "    print(num)  # Outputs: 0, 1, 4, 9, 16\n"
      ],
      "metadata": {
        "colab": {
          "base_uri": "https://localhost:8080/"
        },
        "id": "S3TKKAgXQvGF",
        "outputId": "df037498-1acc-4598-e5a8-740f6aecf329"
      },
      "execution_count": 26,
      "outputs": [
        {
          "output_type": "stream",
          "name": "stdout",
          "text": [
            "0\n",
            "1\n",
            "4\n",
            "9\n",
            "16\n"
          ]
        }
      ]
    },
    {
      "cell_type": "markdown",
      "source": [
        "7.What are the advantages of using generators over regular functions?\n",
        "- Advantages of Using Generators Over Regular Functions in Python\n",
        "Generators offer several powerful advantages, especially when working with large data, streams, or performance-sensitive tasks.\n",
        "\n",
        "🔹 1. Memory Efficiency\n",
        "- Generators do not store the entire result in memory.\n",
        "- They generate one item at a time, only when needed.\n",
        "- **Example:**\n",
        "\n"
      ],
      "metadata": {
        "id": "l74BDfYNQ7ka"
      }
    },
    {
      "cell_type": "code",
      "source": [
        "def generate_numbers():\n",
        "    for i in range(1000000):\n",
        "        yield i  # Does not load all numbers into memory\n"
      ],
      "metadata": {
        "id": "jHeY2gVuRiYb"
      },
      "execution_count": 27,
      "outputs": []
    },
    {
      "cell_type": "markdown",
      "source": [
        "Regular functions that return lists like return [i for i in range(1000000)] would consume a lot of memory.\n",
        "\n",
        "🔹 2. Faster Start Time\n",
        "Since generators don’t compute all values at once, they start execution immediately.\n",
        "\n",
        "This allows partial results to be used right away, even before the full sequence is generated.\n",
        "\n",
        "🔹 3. Lazy Evaluation\n",
        "Computation is deferred until the value is actually needed.\n",
        "\n",
        "Ideal for:\n",
        "\n",
        "Reading large files\n",
        "\n",
        "Streaming data\n",
        "\n",
        "Infinite sequences\n",
        "\n",
        "🔹 4. Simpler Code for Iterators\n",
        "Generators simplify custom iterator logic.\n",
        "\n",
        "You don't need to write a class with __iter__() and __next__() methods.\n",
        "\n",
        "🔸 Instead of this:\n"
      ],
      "metadata": {
        "id": "ePnN5imvRmhe"
      }
    },
    {
      "cell_type": "code",
      "source": [
        "class Counter:\n",
        "    def __init__(self, max):\n",
        "        self.num = 1\n",
        "        self.max = max\n",
        "\n",
        "    def __iter__(self):\n",
        "        return self\n",
        "\n",
        "    def __next__(self):\n",
        "        if self.num > self.max:\n",
        "            raise StopIteration\n",
        "        self.num += 1\n",
        "        return self.num - 1\n"
      ],
      "metadata": {
        "id": "mfj6_rjLRp7d"
      },
      "execution_count": 28,
      "outputs": []
    },
    {
      "cell_type": "markdown",
      "source": [
        "🔸 Just use:"
      ],
      "metadata": {
        "id": "_5bbRD9YRvAZ"
      }
    },
    {
      "cell_type": "code",
      "source": [
        "def counter(max):\n",
        "    num = 1\n",
        "    while num <= max:\n",
        "        yield num\n",
        "        num += 1\n"
      ],
      "metadata": {
        "id": "1A-cFXNSRvYS"
      },
      "execution_count": 29,
      "outputs": []
    },
    {
      "cell_type": "markdown",
      "source": [
        "5.Supports Infinite Sequences\n",
        "- Generators are perfect for infinite data streams, like Fibonacci numbers, logs, or real-time sensor data.\n"
      ],
      "metadata": {
        "id": "KZbdQsQIRztJ"
      }
    },
    {
      "cell_type": "code",
      "source": [
        "def infinite_counter():\n",
        "    i = 0\n",
        "    while True:\n",
        "        yield i\n",
        "        i += 1\n"
      ],
      "metadata": {
        "id": "sp5f4dQ2R22J"
      },
      "execution_count": 30,
      "outputs": []
    },
    {
      "cell_type": "markdown",
      "source": [
        "6.Cleaner Syntax for Pipelines\n",
        "- Generators can be composed like pipelines:"
      ],
      "metadata": {
        "id": "xRwf4OKyR7ZT"
      }
    },
    {
      "cell_type": "code",
      "source": [
        "data = (x * x for x in range(100))\n",
        "filtered = (x for x in data if x % 2 == 0)\n"
      ],
      "metadata": {
        "id": "uGILr2CqR4bp"
      },
      "execution_count": 31,
      "outputs": []
    },
    {
      "cell_type": "markdown",
      "source": [
        "8.What is a lambda function in Python and when is it typically used?\n",
        "- 🔹 Lambda Function in Python: What and When\n",
        "A lambda function in Python is a small anonymous function defined using the lambda keyword.\n",
        "- What Is a Lambda Function?\n",
        "A lambda function is a one-line function without a name that can have any number of arguments but only one expression.\n",
        "\n",
        "Syntax:\n",
        "\n",
        "\n"
      ],
      "metadata": {
        "id": "XuuFwe6nSBC9"
      }
    },
    {
      "cell_type": "code",
      "source": [
        "lambda arguments: expression\n"
      ],
      "metadata": {
        "colab": {
          "base_uri": "https://localhost:8080/"
        },
        "id": "h6wmeznxR_LI",
        "outputId": "d8d0c07f-5c87-4f8a-c4e0-651570dbc5fa"
      },
      "execution_count": 32,
      "outputs": [
        {
          "output_type": "execute_result",
          "data": {
            "text/plain": [
              "<function __main__.<lambda>(arguments)>"
            ]
          },
          "metadata": {},
          "execution_count": 32
        }
      ]
    },
    {
      "cell_type": "markdown",
      "source": [
        "Example:"
      ],
      "metadata": {
        "id": "NBsvsnEHSYkq"
      }
    },
    {
      "cell_type": "code",
      "source": [
        "add = lambda x, y: x + y\n",
        "print(add(2, 3))  # Output: 5\n"
      ],
      "metadata": {
        "colab": {
          "base_uri": "https://localhost:8080/"
        },
        "id": "32rT0J3GST8n",
        "outputId": "8560e08d-430e-4f66-c292-c684a1ca39e4"
      },
      "execution_count": 33,
      "outputs": [
        {
          "output_type": "stream",
          "name": "stdout",
          "text": [
            "5\n"
          ]
        }
      ]
    },
    {
      "cell_type": "markdown",
      "source": [
        "This is equivalent to:\n"
      ],
      "metadata": {
        "id": "ONlGH_-hSdLR"
      }
    },
    {
      "cell_type": "code",
      "source": [
        "def add(x, y):\n",
        "    return x + y\n"
      ],
      "metadata": {
        "id": "rDvvbPoHSawZ"
      },
      "execution_count": 34,
      "outputs": []
    },
    {
      "cell_type": "markdown",
      "source": [
        "When to Use Lambda Functions\n",
        "Lambda functions are typically used for short, throwaway functions, especially when a full def function would be unnecessarily verbose.\n",
        "\n",
        "🔸 Common Use Cases:\n",
        "- With map()"
      ],
      "metadata": {
        "id": "M-4D7ab_Si7t"
      }
    },
    {
      "cell_type": "code",
      "source": [
        "nums = [1, 2, 3]\n",
        "squares = list(map(lambda x: x * x, nums))\n",
        "# Output: [1, 4, 9]\n"
      ],
      "metadata": {
        "id": "srAr4FeMSgf3"
      },
      "execution_count": 35,
      "outputs": []
    },
    {
      "cell_type": "markdown",
      "source": [
        "- With filter()"
      ],
      "metadata": {
        "id": "QMbNRbaGSouH"
      }
    },
    {
      "cell_type": "code",
      "source": [
        "even = list(filter(lambda x: x % 2 == 0, nums))\n",
        "# Output: [2]\n"
      ],
      "metadata": {
        "id": "xWKMGwpLSmPG"
      },
      "execution_count": 36,
      "outputs": []
    },
    {
      "cell_type": "markdown",
      "source": [
        "- With sorted()"
      ],
      "metadata": {
        "id": "MxXKP3gqSuVe"
      }
    },
    {
      "cell_type": "code",
      "source": [
        "people = [(\"Alice\", 25), (\"Bob\", 20)]\n",
        "sorted_people = sorted(people, key=lambda x: x[1])\n",
        "# Sorted by age\n"
      ],
      "metadata": {
        "id": "1FdCM9niSsEo"
      },
      "execution_count": 37,
      "outputs": []
    },
    {
      "cell_type": "markdown",
      "source": [
        "- With GUI callbacks or event handlers"
      ],
      "metadata": {
        "id": "ljGb6cNcSy84"
      }
    },
    {
      "cell_type": "code",
      "source": [
        "button.config(command=lambda: print(\"Clicked!\"))\n"
      ],
      "metadata": {
        "id": "hrl1lFqSS2Ke"
      },
      "execution_count": null,
      "outputs": []
    },
    {
      "cell_type": "markdown",
      "source": [
        "- Inline expressions where clarity is not lost"
      ],
      "metadata": {
        "id": "Yeel4SrJS_sN"
      }
    },
    {
      "cell_type": "code",
      "source": [
        "apply_twice = lambda f, x: f(f(x))\n"
      ],
      "metadata": {
        "id": "bY5GCOUzTB2T"
      },
      "execution_count": 40,
      "outputs": []
    },
    {
      "cell_type": "markdown",
      "source": [
        "9.Explain the purpose and usage of the `map()` function in Python.\n",
        "- Purpose and Usage of the map() Function in Python\n",
        "- What is map()?\n",
        "  -The map() function applies a given function to each item of an iterable (like a list, tuple, etc.) and returns a map object (which is an iterator) with the results.\n",
        "\n",
        "- Purpose\n",
        "  - To transform or process each element of an iterable without using explicit loops.\n",
        "  - Helps write cleaner, more concise, and functional-style code.\n",
        "  - Useful when you want to apply the same operation to every element in a collection.\n",
        "\n",
        "Syntax:"
      ],
      "metadata": {
        "id": "R88HMshQTH0n"
      }
    },
    {
      "cell_type": "code",
      "source": [
        "map(function, iterable, ...)\n"
      ],
      "metadata": {
        "id": "-jPdoKWQTe_-"
      },
      "execution_count": null,
      "outputs": []
    },
    {
      "cell_type": "markdown",
      "source": [
        "- function: A function that takes one or more arguments.\n",
        "\n",
        "- iterable: One or more iterable objects (e.g., lists, tuples).\n",
        "\n",
        "- The function is applied to the items from the iterable(s)."
      ],
      "metadata": {
        "id": "PcQTP4H7TlcF"
      }
    },
    {
      "cell_type": "markdown",
      "source": [
        "- How it Works\n",
        "  - map() calls the function on each item of the iterable(s).\n",
        "  - If multiple iterables are passed, the function must take that many arguments.\n",
        "  - Returns a map object, which is an iterator that yields the results one by one.\n",
        "- Examples\n",
        "1.Using with one iterable\n",
        "\n"
      ],
      "metadata": {
        "id": "cWExIlyLTqpH"
      }
    },
    {
      "cell_type": "code",
      "source": [
        "nums = [1, 2, 3, 4]\n",
        "squares = map(lambda x: x * x, nums)\n",
        "\n",
        "print(list(squares))  # Output: [1, 4, 9, 16]\n"
      ],
      "metadata": {
        "colab": {
          "base_uri": "https://localhost:8080/"
        },
        "id": "IvW2btCpToVi",
        "outputId": "cb6b00dd-9bd3-4b4e-d08f-885a7c03a86a"
      },
      "execution_count": 42,
      "outputs": [
        {
          "output_type": "stream",
          "name": "stdout",
          "text": [
            "[1, 4, 9, 16]\n"
          ]
        }
      ]
    },
    {
      "cell_type": "markdown",
      "source": [
        "2.Using with multiple iterables"
      ],
      "metadata": {
        "id": "37_8mh6TT3i9"
      }
    },
    {
      "cell_type": "code",
      "source": [
        "a = [1, 2, 3]\n",
        "b = [4, 5, 6]\n",
        "\n",
        "result = map(lambda x, y: x + y, a, b)\n",
        "print(list(result))  # Output: [5, 7, 9]\n"
      ],
      "metadata": {
        "colab": {
          "base_uri": "https://localhost:8080/"
        },
        "id": "0gDRBUhNT1fa",
        "outputId": "f6c32471-550d-438a-edb4-370a61e7959e"
      },
      "execution_count": 43,
      "outputs": [
        {
          "output_type": "stream",
          "name": "stdout",
          "text": [
            "[5, 7, 9]\n"
          ]
        }
      ]
    },
    {
      "cell_type": "markdown",
      "source": [
        "- Common Use Cases\n",
        "  - Transforming data collections (e.g., converting all strings to uppercase).\n",
        "  - Applying mathematical operations on numeric lists.\n",
        "  - Combining multiple lists element-wise.\n",
        "\n",
        "- Replacing simple loops with concise expressions.\n",
        "\n",
        "- Important Notes\n",
        "  - map() returns an iterator in Python 3, so convert it to a list or other collection type if needed.\n",
        "  - It can be more efficient than using explicit loops, especially with large datasets."
      ],
      "metadata": {
        "id": "C8m9eZnRT8my"
      }
    },
    {
      "cell_type": "markdown",
      "source": [
        "10.What is the difference between `map()`, `reduce()`, and `filter()` functions in Python?\n",
        "- 1.map()\n",
        "- Purpose: Applies a function to each item in an iterable and returns an iterator with the transformed items.\n",
        "- Input: Function + iterable(s)\n",
        "- Output: Iterator of the transformed elements\n",
        "\n",
        "Example:"
      ],
      "metadata": {
        "id": "rERH4nAJUN6B"
      }
    },
    {
      "cell_type": "code",
      "source": [
        "nums = [1, 2, 3, 4]\n",
        "squares = map(lambda x: x*x, nums)\n",
        "print(list(squares))  # [1, 4, 9, 16]\n"
      ],
      "metadata": {
        "colab": {
          "base_uri": "https://localhost:8080/"
        },
        "id": "o22WGyAZT6YY",
        "outputId": "3544fddb-5190-45b1-d3a9-47f63b782733"
      },
      "execution_count": 44,
      "outputs": [
        {
          "output_type": "stream",
          "name": "stdout",
          "text": [
            "[1, 4, 9, 16]\n"
          ]
        }
      ]
    },
    {
      "cell_type": "markdown",
      "source": [
        "2.filter()\n",
        "- Purpose: Filters elements from an iterable for which the function returns True.\n",
        "- Input: Function (returns bool) + iterable\n",
        "- Output: Iterator with elements that satisfy the condition\n",
        "\n",
        "Example:"
      ],
      "metadata": {
        "id": "ozWyZYP6Ue_c"
      }
    },
    {
      "cell_type": "code",
      "source": [
        "nums = [1, 2, 3, 4, 5, 6]\n",
        "evens = filter(lambda x: x % 2 == 0, nums)\n",
        "print(list(evens))  # [2, 4, 6]\n"
      ],
      "metadata": {
        "colab": {
          "base_uri": "https://localhost:8080/"
        },
        "id": "DW5K-m5wUcG2",
        "outputId": "cb4c7647-527b-412a-c9a3-b430d783544e"
      },
      "execution_count": 45,
      "outputs": [
        {
          "output_type": "stream",
          "name": "stdout",
          "text": [
            "[2, 4, 6]\n"
          ]
        }
      ]
    },
    {
      "cell_type": "markdown",
      "source": [
        "3.reduce() (from functools)\n",
        "- Purpose: Reduces an iterable to a single cumulative value by applying a binary function cumulatively.\n",
        "- Input: Function (takes two arguments) + iterable\n",
        "- Output: Single value\n",
        "\n",
        "Example:"
      ],
      "metadata": {
        "id": "uKusP35SUnNZ"
      }
    },
    {
      "cell_type": "code",
      "source": [
        "from functools import reduce\n",
        "\n",
        "nums = [1, 2, 3, 4]\n",
        "product = reduce(lambda x, y: x * y, nums)\n",
        "print(product)  # 24 (1*2*3*4)\n"
      ],
      "metadata": {
        "colab": {
          "base_uri": "https://localhost:8080/"
        },
        "id": "hRCr-ljGUkus",
        "outputId": "9f63ca61-bd93-4b5e-9cb6-95480c2265da"
      },
      "execution_count": 46,
      "outputs": [
        {
          "output_type": "stream",
          "name": "stdout",
          "text": [
            "24\n"
          ]
        }
      ]
    },
    {
      "cell_type": "markdown",
      "source": [
        "In short:\n",
        "- Use map() to apply a function to every item.\n",
        "- Use filter() to select items based on a condition.\n",
        "- Use reduce() to combine all items into one result."
      ],
      "metadata": {
        "id": "UUJQiOljUvh2"
      }
    },
    {
      "cell_type": "markdown",
      "source": [
        "11.Using pen & Paper write the internal mechanism for sum operation using  reduce function on this given list:[47,11,42,13];"
      ],
      "metadata": {
        "id": "4nBVBoiDfV9k"
      }
    },
    {
      "cell_type": "markdown",
      "source": [
        "Ans: Image paste in docs."
      ],
      "metadata": {
        "id": "23BqV3miffVT"
      }
    },
    {
      "cell_type": "markdown",
      "source": [
        "**Practical Questions:**"
      ],
      "metadata": {
        "id": "2aQugr02VQSR"
      }
    },
    {
      "cell_type": "markdown",
      "source": [
        "1.Write a Python function that takes a list of numbers as input and returns the sum of all even numbers in the list.\n",
        "- Here’s a simple Python function that takes a list of numbers and returns the sum of all even numbers:"
      ],
      "metadata": {
        "id": "NDSFmzCPViwj"
      }
    },
    {
      "cell_type": "code",
      "source": [
        "def sum_even_numbers(numbers):\n",
        "    return sum(num for num in numbers if num % 2 == 0)\n"
      ],
      "metadata": {
        "id": "_HpzmHcXVtJz"
      },
      "execution_count": 47,
      "outputs": []
    },
    {
      "cell_type": "markdown",
      "source": [
        "- How it works:\n",
        "  - It uses a generator expression inside sum() to filter only even numbers (num % 2 == 0).\n",
        "  - Then it adds them all up and returns the total.\n",
        "- Example usage:\n",
        "\n"
      ],
      "metadata": {
        "id": "kmrR8FN0V3cF"
      }
    },
    {
      "cell_type": "code",
      "source": [
        "nums = [1, 2, 3, 4, 5, 6]\n",
        "print(sum_even_numbers(nums))  # Output: 12 (2 + 4 + 6)\n"
      ],
      "metadata": {
        "colab": {
          "base_uri": "https://localhost:8080/"
        },
        "id": "MbC0MeivVv7t",
        "outputId": "4a5ce0d1-b72d-4d3b-a1ff-a68c66aaa867"
      },
      "execution_count": 48,
      "outputs": [
        {
          "output_type": "stream",
          "name": "stdout",
          "text": [
            "12\n"
          ]
        }
      ]
    },
    {
      "cell_type": "markdown",
      "source": [
        "2.Create a Python function that accepts a string and returns the reverse of that string.\n",
        "- Here’s a simple Python function to reverse a string:"
      ],
      "metadata": {
        "id": "S1ALbKY1WIOU"
      }
    },
    {
      "cell_type": "code",
      "source": [
        "def reverse_string(s):\n",
        "    return s[::-1]\n"
      ],
      "metadata": {
        "id": "ml392zR0WDCk"
      },
      "execution_count": 49,
      "outputs": []
    },
    {
      "cell_type": "markdown",
      "source": [
        "- Explanation:\n",
        " - s[::-1] uses slice notation to create a reversed copy of the string.\n",
        "\n",
        "Example usage:"
      ],
      "metadata": {
        "id": "Apt6CABxWu_z"
      }
    },
    {
      "cell_type": "code",
      "source": [
        "print(reverse_string(\"hello\"))  # Output: \"olleh\"\n"
      ],
      "metadata": {
        "colab": {
          "base_uri": "https://localhost:8080/"
        },
        "id": "XviycgEWWsl-",
        "outputId": "cc967526-a8c9-4009-d8fe-dac61a57ca84"
      },
      "execution_count": 50,
      "outputs": [
        {
          "output_type": "stream",
          "name": "stdout",
          "text": [
            "olleh\n"
          ]
        }
      ]
    },
    {
      "cell_type": "markdown",
      "source": [
        "3.Implement a Python function that takes a list of integers and returns a new list containing the squares of each number.\n",
        "- Here’s a Python function that takes a list of integers and returns a new list with their squares:"
      ],
      "metadata": {
        "id": "_KlyqRzKXF4T"
      }
    },
    {
      "cell_type": "code",
      "source": [
        "def square_list(numbers):\n",
        "    return [num ** 2 for num in numbers]\n"
      ],
      "metadata": {
        "id": "YySuqg_VW7tE"
      },
      "execution_count": 51,
      "outputs": []
    },
    {
      "cell_type": "markdown",
      "source": [
        "- Explanation:\n",
        "  - Uses a list comprehension to square each number (num ** 2).\n",
        "\n",
        "Example usage:"
      ],
      "metadata": {
        "id": "wukK0iR9XRO-"
      }
    },
    {
      "cell_type": "code",
      "source": [
        "nums = [1, 2, 3, 4]\n",
        "print(square_list(nums))  # Output: [1, 4, 9, 16]\n"
      ],
      "metadata": {
        "colab": {
          "base_uri": "https://localhost:8080/"
        },
        "id": "jxNAaJQ8XPWt",
        "outputId": "1780f059-19b7-4625-9446-8bb00b7a4885"
      },
      "execution_count": 52,
      "outputs": [
        {
          "output_type": "stream",
          "name": "stdout",
          "text": [
            "[1, 4, 9, 16]\n"
          ]
        }
      ]
    },
    {
      "cell_type": "markdown",
      "source": [
        "4.Write a Python function that checks if a given number is prime or not from 1 to 200."
      ],
      "metadata": {
        "id": "VOWbF6LbXZ8v"
      }
    },
    {
      "cell_type": "code",
      "source": [
        "def is_prime(n):\n",
        "    if n <= 1:\n",
        "        return False\n",
        "    if n == 2:\n",
        "        return True\n",
        "    if n % 2 == 0:\n",
        "        return False\n",
        "    for i in range(3, int(n**0.5) + 1, 2):\n",
        "        if n % i == 0:\n",
        "            return False\n",
        "    return True\n"
      ],
      "metadata": {
        "id": "5EYT_JWVXYTb"
      },
      "execution_count": 53,
      "outputs": []
    },
    {
      "cell_type": "markdown",
      "source": [
        "- How it works:\n",
        "  - Numbers ≤ 1 are not prime.\n",
        "  - 2 is prime.\n",
        "  - Even numbers greater than 2 are not prime.\n",
        "  - Checks odd divisors up to the square root of n for factors.\n",
        "  - Returns True if no divisors found, else False."
      ],
      "metadata": {
        "id": "IWsgAzo4XrFQ"
      }
    },
    {
      "cell_type": "code",
      "source": [
        "for num in range(1, 201):\n",
        "    if is_prime(num):\n",
        "        print(num, \"is prime\")\n"
      ],
      "metadata": {
        "colab": {
          "base_uri": "https://localhost:8080/"
        },
        "id": "HwNVHKMpXne1",
        "outputId": "de2a3dfd-1041-4288-f3b2-ff90bac4281a"
      },
      "execution_count": 54,
      "outputs": [
        {
          "output_type": "stream",
          "name": "stdout",
          "text": [
            "2 is prime\n",
            "3 is prime\n",
            "5 is prime\n",
            "7 is prime\n",
            "11 is prime\n",
            "13 is prime\n",
            "17 is prime\n",
            "19 is prime\n",
            "23 is prime\n",
            "29 is prime\n",
            "31 is prime\n",
            "37 is prime\n",
            "41 is prime\n",
            "43 is prime\n",
            "47 is prime\n",
            "53 is prime\n",
            "59 is prime\n",
            "61 is prime\n",
            "67 is prime\n",
            "71 is prime\n",
            "73 is prime\n",
            "79 is prime\n",
            "83 is prime\n",
            "89 is prime\n",
            "97 is prime\n",
            "101 is prime\n",
            "103 is prime\n",
            "107 is prime\n",
            "109 is prime\n",
            "113 is prime\n",
            "127 is prime\n",
            "131 is prime\n",
            "137 is prime\n",
            "139 is prime\n",
            "149 is prime\n",
            "151 is prime\n",
            "157 is prime\n",
            "163 is prime\n",
            "167 is prime\n",
            "173 is prime\n",
            "179 is prime\n",
            "181 is prime\n",
            "191 is prime\n",
            "193 is prime\n",
            "197 is prime\n",
            "199 is prime\n"
          ]
        }
      ]
    },
    {
      "cell_type": "markdown",
      "source": [
        "5.Create an iterator class in Python that generates the Fibonacci sequence up to a specified number of terms."
      ],
      "metadata": {
        "id": "qyDy0F8bX7op"
      }
    },
    {
      "cell_type": "code",
      "source": [
        "class Fibonacci:\n",
        "    def __init__(self, max_terms):\n",
        "        self.max_terms = max_terms\n",
        "        self.count = 0\n",
        "        self.a = 0\n",
        "        self.b = 1\n",
        "\n",
        "    def __iter__(self):\n",
        "        return self\n",
        "\n",
        "    def __next__(self):\n",
        "        if self.count >= self.max_terms:\n",
        "            raise StopIteration\n",
        "        if self.count == 0:\n",
        "            self.count += 1\n",
        "            return 0\n",
        "        elif self.count == 1:\n",
        "            self.count += 1\n",
        "            return 1\n",
        "        else:\n",
        "            self.a, self.b = self.b, self.a + self.b\n",
        "            self.count += 1\n",
        "            return self.a\n"
      ],
      "metadata": {
        "id": "pg9n5-syX00f"
      },
      "execution_count": 55,
      "outputs": []
    },
    {
      "cell_type": "markdown",
      "source": [
        "Explanation:\n",
        "- __init__() initializes the maximum number of terms and starting values.\n",
        "\n",
        "- __iter__() returns the iterator object itself.\n",
        "\n",
        "- __next__() returns the next Fibonacci number or raises StopIteration when done."
      ],
      "metadata": {
        "id": "DRgMkgehYCun"
      }
    },
    {
      "cell_type": "code",
      "source": [
        "fib = Fibonacci(10)\n",
        "\n",
        "for num in fib:\n",
        "    print(num)\n"
      ],
      "metadata": {
        "colab": {
          "base_uri": "https://localhost:8080/"
        },
        "id": "mAM7L3WQYAY5",
        "outputId": "674a0a1c-c72f-49d1-e9fd-e378b34b5951"
      },
      "execution_count": 56,
      "outputs": [
        {
          "output_type": "stream",
          "name": "stdout",
          "text": [
            "0\n",
            "1\n",
            "1\n",
            "1\n",
            "2\n",
            "3\n",
            "5\n",
            "8\n",
            "13\n",
            "21\n"
          ]
        }
      ]
    },
    {
      "cell_type": "markdown",
      "source": [
        "6.Write a generator function in Python that yields the powers of 2 up to a given exponent."
      ],
      "metadata": {
        "id": "XCJEAETHYN7K"
      }
    },
    {
      "cell_type": "code",
      "source": [
        "def powers_of_two(n):\n",
        "    for i in range(n + 1):\n",
        "        yield 2 ** i\n"
      ],
      "metadata": {
        "id": "iIAe6iamYIso"
      },
      "execution_count": 57,
      "outputs": []
    },
    {
      "cell_type": "markdown",
      "source": [
        "Explanation:\n",
        "- yield allows the function to return one value at a time, resuming where it left off.\n",
        "- 2 ** i calculates 2 raised to the power of i.\n",
        "\n",
        "Example Usage:"
      ],
      "metadata": {
        "id": "qm43G3cMYWv9"
      }
    },
    {
      "cell_type": "code",
      "source": [
        "for power in powers_of_two(5):\n",
        "    print(power)\n"
      ],
      "metadata": {
        "colab": {
          "base_uri": "https://localhost:8080/"
        },
        "id": "cHMjrEFdYUhu",
        "outputId": "f62b319c-7640-4570-e967-4cd4c59ffb3a"
      },
      "execution_count": 58,
      "outputs": [
        {
          "output_type": "stream",
          "name": "stdout",
          "text": [
            "1\n",
            "2\n",
            "4\n",
            "8\n",
            "16\n",
            "32\n"
          ]
        }
      ]
    },
    {
      "cell_type": "markdown",
      "source": [
        "7.Implement a generator function that reads a file line by line and yields each line as a string."
      ],
      "metadata": {
        "id": "p-mVOQOUYeFp"
      }
    },
    {
      "cell_type": "code",
      "source": [
        "def line_reader(filepath):\n",
        "    \"\"\"\n",
        "    A generator function that reads a file line by line and yields each line as a string.\n",
        "\n",
        "    Args:\n",
        "        filepath (str): The path to the file to be read.\n",
        "\n",
        "    Yields:\n",
        "        str: Each line of the file as a string.\n",
        "    \"\"\"\n",
        "    try:\n",
        "        with open(filepath, 'r') as file:\n",
        "            for line in file:\n",
        "                yield line.strip('\\n')  # Remove the newline character at the end of each line\n",
        "    except FileNotFoundError:\n",
        "        print(f\"Error: The file '{filepath}' was not found.\")\n",
        "    except Exception as e:\n",
        "        print(f\"An error occurred: {e}\")\n",
        "\n",
        "# Example Usage:\n",
        "if __name__ == \"__main__\":\n",
        "    # Create a dummy file for testing\n",
        "    with open(\"sample.txt\", \"w\") as f:\n",
        "        f.write(\"This is line 1.\\n\")\n",
        "        f.write(\"This is line 2.\\n\")\n",
        "        f.write(\"And this is line 3.\\n\")\n",
        "        f.write(\"Last line.\")\n",
        "\n",
        "    print(\"Reading 'sample.txt' line by line:\")\n",
        "    for line in line_reader(\"sample.txt\"):\n",
        "        print(line)\n",
        "\n",
        "    print(\"\\nReading a non-existent file:\")\n",
        "    for line in line_reader(\"non_existent_file.txt\"):\n",
        "        print(line)"
      ],
      "metadata": {
        "colab": {
          "base_uri": "https://localhost:8080/"
        },
        "id": "_JFy88_pYsJx",
        "outputId": "a0c7a05c-e688-45f1-833f-2e2791b8e6a0"
      },
      "execution_count": 63,
      "outputs": [
        {
          "output_type": "stream",
          "name": "stdout",
          "text": [
            "Reading 'sample.txt' line by line:\n",
            "This is line 1.\n",
            "This is line 2.\n",
            "And this is line 3.\n",
            "Last line.\n",
            "\n",
            "Reading a non-existent file:\n",
            "Error: The file 'non_existent_file.txt' was not found.\n"
          ]
        }
      ]
    },
    {
      "cell_type": "markdown",
      "source": [
        "8.Use a lambda function in Python to sort a list of tuples based on the second element of each tuple."
      ],
      "metadata": {
        "id": "cuIrAanRZJuQ"
      }
    },
    {
      "cell_type": "code",
      "source": [
        "# Sample list of tuples\n",
        "data = [('apple', 3), ('banana', 1), ('cherry', 2)]\n",
        "\n",
        "# Sort by the second element of each tuple using a lambda function\n",
        "sorted_data = sorted(data, key=lambda x: x[1])\n",
        "\n",
        "print(sorted_data)\n"
      ],
      "metadata": {
        "colab": {
          "base_uri": "https://localhost:8080/"
        },
        "id": "DFopLrsAZC8s",
        "outputId": "474ecd71-f3df-40f1-cddc-0ba093115536"
      },
      "execution_count": 64,
      "outputs": [
        {
          "output_type": "stream",
          "name": "stdout",
          "text": [
            "[('banana', 1), ('cherry', 2), ('apple', 3)]\n"
          ]
        }
      ]
    },
    {
      "cell_type": "markdown",
      "source": [
        "Explanation:\n",
        "- lambda x: x[1] tells sorted() to use the second element of each tuple (x[1]) as the sorting key.\n",
        "- sorted() returns a new sorted list without modifying the original."
      ],
      "metadata": {
        "id": "BQZO0J47ZURx"
      }
    },
    {
      "cell_type": "markdown",
      "source": [
        "9.Write a Python program that uses `map()` to convert a list of temperatures from Celsius to Fahrenheit."
      ],
      "metadata": {
        "id": "Mfmcur0XZZLm"
      }
    },
    {
      "cell_type": "code",
      "source": [
        "# List of temperatures in Celsius\n",
        "celsius = [0, 10, 20, 30, 40]\n",
        "\n",
        "# Formula: (C × 9/5) + 32 = F\n",
        "fahrenheit = list(map(lambda c: (c * 9/5) + 32, celsius))\n",
        "\n",
        "# Print the result\n",
        "print(\"Celsius:    \", celsius)\n",
        "print(\"Fahrenheit: \", fahrenheit)\n"
      ],
      "metadata": {
        "colab": {
          "base_uri": "https://localhost:8080/"
        },
        "id": "R7hs3RS0ZQ0b",
        "outputId": "c74eccff-490b-4e33-f194-38a5b96cd72c"
      },
      "execution_count": 65,
      "outputs": [
        {
          "output_type": "stream",
          "name": "stdout",
          "text": [
            "Celsius:     [0, 10, 20, 30, 40]\n",
            "Fahrenheit:  [32.0, 50.0, 68.0, 86.0, 104.0]\n"
          ]
        }
      ]
    },
    {
      "cell_type": "markdown",
      "source": [
        "10.Create a Python program that uses `filter()` to remove all the vowels from a given string."
      ],
      "metadata": {
        "id": "7QlI6mRMZnzt"
      }
    },
    {
      "cell_type": "code",
      "source": [
        "def remove_vowels(text):\n",
        "    vowels = 'aeiouAEIOU'\n",
        "    return ''.join(filter(lambda char: char not in vowels, text))\n",
        "\n",
        "# Example usage\n",
        "input_str = \"Hello, World!\"\n",
        "output_str = remove_vowels(input_str)\n",
        "\n",
        "print(\"Original:\", input_str)\n",
        "print(\"Without vowels:\", output_str)\n"
      ],
      "metadata": {
        "colab": {
          "base_uri": "https://localhost:8080/"
        },
        "id": "sTUeP5upZj8V",
        "outputId": "823696e5-37a1-4aa2-cf3d-2f30c3dd54b2"
      },
      "execution_count": 66,
      "outputs": [
        {
          "output_type": "stream",
          "name": "stdout",
          "text": [
            "Original: Hello, World!\n",
            "Without vowels: Hll, Wrld!\n"
          ]
        }
      ]
    },
    {
      "cell_type": "markdown",
      "source": [
        "Explanation:\n",
        "- filter() keeps only characters that are not in the vowels string.\n",
        "- lambda char: char not in vowels filters out vowels.\n",
        "- ''.join(...) combines the remaining characters back into a single string."
      ],
      "metadata": {
        "id": "Id-FOrARZyQu"
      }
    },
    {
      "cell_type": "markdown",
      "source": [
        "11.Imagine an accounting routine used in a book shop. It works on a list with sublists, which look like this:\n",
        "\n",
        "Order Number\n",
        "\n",
        "Book Title and Author\n",
        "\n",
        "34587\n",
        "\n",
        "Learning Python, Mark Lutz\n",
        "\n",
        "98762\n",
        "\n",
        "77226\n",
        "\n",
        "Programming Python, Mark Lutz\n",
        "\n",
        "Head First Python, Paul Barry\n",
        "\n",
        "88112\n",
        "\n",
        "Einführung in Python3, Bernd Klein\n",
        "\n",
        "Quantity\n",
        "\n",
        "4\n",
        "\n",
        "5\n",
        "\n",
        "3\n",
        "\n",
        "3\n",
        "\n",
        "Price per\n",
        "\n",
        "Item\n",
        "\n",
        "40.95\n",
        "\n",
        "56.80\n",
        "\n",
        "32.95\n",
        "\n",
        "24.99\n",
        "\n",
        "Write a Python program, which returns a list with 2-tuples. Each tuple consists of the order number and the product of the price per item and the quantity. The product should be increased by 10,- € if the value of the order is smaller than 100,00 €.\n",
        "\n",
        "Write a Python program using lambda and map."
      ],
      "metadata": {
        "id": "7-Tiz0Scanpk"
      }
    },
    {
      "cell_type": "code",
      "source": [
        "# Raw order data: (order number, book title, quantity, price per item)\n",
        "orders = [\n",
        "    (34587, \"Learning Python, Mark Lutz\", 4, 40.95),\n",
        "    (98762, \"Programming Python, Mark Lutz\", 5, 56.80),\n",
        "    (77226, \"Head First Python, Paul Barry\", 3, 32.95),\n",
        "    (88112, \"Einführung in Python3, Bernd Klein\", 3, 24.99)\n",
        "]\n",
        "\n",
        "# Use map and lambda to process each order\n",
        "invoice = list(map(lambda order: (\n",
        "    order[0],\n",
        "    round(order[2] * order[3] + 10 if order[2] * order[3] < 100 else order[2] * order[3], 2)\n",
        "), orders))\n",
        "\n",
        "# Output result\n",
        "print(invoice)\n"
      ],
      "metadata": {
        "colab": {
          "base_uri": "https://localhost:8080/"
        },
        "id": "ATIGbxf6ZvWO",
        "outputId": "84e23213-c45b-4210-f41a-e8312d26ac43"
      },
      "execution_count": 68,
      "outputs": [
        {
          "output_type": "stream",
          "name": "stdout",
          "text": [
            "[(34587, 163.8), (98762, 284.0), (77226, 108.85), (88112, 84.97)]\n"
          ]
        }
      ]
    },
    {
      "cell_type": "markdown",
      "source": [
        "- Note: The last order is less than €100, so it gets a €10 surcharge.\n",
        "\n",
        "- Explanation:\n",
        "  - order[2] * order[3] computes the total (quantity × price).\n",
        "  - The lambda adds €10 if that total is under €100.\n",
        "  - round(..., 2) ensures the result is rounded to two decimal places.\n",
        "  - map() applies the lambda to each tuple in the list."
      ],
      "metadata": {
        "id": "7Df6v2IgayRv"
      }
    },
    {
      "cell_type": "code",
      "source": [],
      "metadata": {
        "id": "kRoTJPHNarhe"
      },
      "execution_count": null,
      "outputs": []
    }
  ]
}